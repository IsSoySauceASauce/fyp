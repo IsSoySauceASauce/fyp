{
 "cells": [
  {
   "cell_type": "code",
   "execution_count": null,
   "metadata": {},
   "outputs": [],
   "source": [
    "import numpy as np\n",
    "\n",
    "malay_stopwords = np.load('data/malay_stopwords.npy')\n",
    "positive_malay_words = np.load('data/positive_malay_words.npy')\n",
    "negative_malay_words = np.load('data/negative_malay_words.npy')\n",
    "positive_word_top_100 = np.load('data/positive_word_top_100.npy')\n",
    "negative_word_top_100 = np.load('data/negative_word_top_100.npy')\n",
    "learned_positive_words = np.load('data/learned_positive_words.npy')\n",
    "learned_negative_words = np.load('data/learned_negative_words.npy')\n",
    "\n",
    "print(malay_stopwords)\n",
    "print(\"\\n\")\n",
    "print(positive_malay_words)\n",
    "print(\"\\n\")\n",
    "print(negative_malay_words)\n",
    "print(\"\\n\")\n",
    "print(positive_word_top_100)\n",
    "print(\"\\n\")\n",
    "print(negative_word_top_100)\n",
    "print(\"\\n\")\n",
    "print(learned_positive_words)\n",
    "print(\"\\n\")\n",
    "print(learned_negative_words)"
   ]
  }
 ],
 "metadata": {
  "kernelspec": {
   "display_name": "fyp3",
   "language": "python",
   "name": "python3"
  },
  "language_info": {
   "codemirror_mode": {
    "name": "ipython",
    "version": 3
   },
   "file_extension": ".py",
   "mimetype": "text/x-python",
   "name": "python",
   "nbconvert_exporter": "python",
   "pygments_lexer": "ipython3",
   "version": "3.11.3"
  },
  "orig_nbformat": 4
 },
 "nbformat": 4,
 "nbformat_minor": 2
}
