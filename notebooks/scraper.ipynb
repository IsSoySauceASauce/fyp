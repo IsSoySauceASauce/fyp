{
 "cells": [
  {
   "cell_type": "code",
   "execution_count": 8,
   "metadata": {},
   "outputs": [
    {
     "name": "stderr",
     "output_type": "stream",
     "text": [
      "JSON Query to graphql/query: 429 Too Many Requests [retrying; skip with ^C]\n",
      "Number of requests within last 10/11/20/22/30/60 minutes grouped by type:\n",
      "                              other:    1    1    1    1    1    1\n",
      "                             iphone:    1    1    1    1    1    1\n",
      "   2b0673e0dc4580674a88d426fe00ea90:    3    3    3    3    3    3\n",
      " * 97b41c52301f77ce508f55e66d17620e:   20   20   20   20   20   20\n",
      "Instagram responded with HTTP error \"429 - Too Many Requests\". Please\n",
      "do not run multiple instances of Instaloader in parallel or within\n",
      "short sequence. Also, do not use any Instagram App while Instaloader\n",
      "is running.\n",
      "The request will be retried in 620 seconds, at 18:18.\n",
      "JSON Query to graphql/query: 429 Too Many Requests [retrying; skip with ^C]\n",
      "Number of requests within last 10/11/20/22/30/60 minutes grouped by type:\n",
      "                              other:    0    0    1    1    1    1\n",
      "                             iphone:    0    0    1    1    1    1\n",
      "   2b0673e0dc4580674a88d426fe00ea90:    0    2    3    3    3    3\n",
      " * 97b41c52301f77ce508f55e66d17620e:    1   17   21   21   21   21\n",
      "Instagram responded with HTTP error \"429 - Too Many Requests\". Please\n",
      "do not run multiple instances of Instaloader in parallel or within\n",
      "short sequence. Also, do not use any Instagram App while Instaloader\n",
      "is running.\n",
      "The request will be retried in 9 seconds, at 18:18.\n"
     ]
    },
    {
     "ename": "ConnectionException",
     "evalue": "JSON Query to graphql/query: 429 Too Many Requests",
     "output_type": "error",
     "traceback": [
      "\u001b[1;31m---------------------------------------------------------------------------\u001b[0m",
      "\u001b[1;31mTooManyRequestsException\u001b[0m                  Traceback (most recent call last)",
      "File \u001b[1;32mc:\\Users\\User\\anaconda3\\envs\\fyp3\\lib\\site-packages\\instaloader\\instaloadercontext.py:350\u001b[0m, in \u001b[0;36mInstaloaderContext.get_json\u001b[1;34m(self, path, params, host, session, _attempt)\u001b[0m\n\u001b[0;32m    349\u001b[0m \u001b[39mif\u001b[39;00m resp\u001b[39m.\u001b[39mstatus_code \u001b[39m==\u001b[39m \u001b[39m429\u001b[39m:\n\u001b[1;32m--> 350\u001b[0m     \u001b[39mraise\u001b[39;00m TooManyRequestsException(\u001b[39m\"\u001b[39m\u001b[39m429 Too Many Requests\u001b[39m\u001b[39m\"\u001b[39m)\n\u001b[0;32m    351\u001b[0m \u001b[39mif\u001b[39;00m resp\u001b[39m.\u001b[39mstatus_code \u001b[39m!=\u001b[39m \u001b[39m200\u001b[39m:\n",
      "\u001b[1;31mTooManyRequestsException\u001b[0m: 429 Too Many Requests",
      "\nDuring handling of the above exception, another exception occurred:\n",
      "\u001b[1;31mTooManyRequestsException\u001b[0m                  Traceback (most recent call last)",
      "File \u001b[1;32mc:\\Users\\User\\anaconda3\\envs\\fyp3\\lib\\site-packages\\instaloader\\instaloadercontext.py:350\u001b[0m, in \u001b[0;36mInstaloaderContext.get_json\u001b[1;34m(self, path, params, host, session, _attempt)\u001b[0m\n\u001b[0;32m    349\u001b[0m \u001b[39mif\u001b[39;00m resp\u001b[39m.\u001b[39mstatus_code \u001b[39m==\u001b[39m \u001b[39m429\u001b[39m:\n\u001b[1;32m--> 350\u001b[0m     \u001b[39mraise\u001b[39;00m TooManyRequestsException(\u001b[39m\"\u001b[39m\u001b[39m429 Too Many Requests\u001b[39m\u001b[39m\"\u001b[39m)\n\u001b[0;32m    351\u001b[0m \u001b[39mif\u001b[39;00m resp\u001b[39m.\u001b[39mstatus_code \u001b[39m!=\u001b[39m \u001b[39m200\u001b[39m:\n",
      "\u001b[1;31mTooManyRequestsException\u001b[0m: 429 Too Many Requests",
      "\nDuring handling of the above exception, another exception occurred:\n",
      "\u001b[1;31mTooManyRequestsException\u001b[0m                  Traceback (most recent call last)",
      "File \u001b[1;32mc:\\Users\\User\\anaconda3\\envs\\fyp3\\lib\\site-packages\\instaloader\\instaloadercontext.py:350\u001b[0m, in \u001b[0;36mInstaloaderContext.get_json\u001b[1;34m(self, path, params, host, session, _attempt)\u001b[0m\n\u001b[0;32m    349\u001b[0m \u001b[39mif\u001b[39;00m resp\u001b[39m.\u001b[39mstatus_code \u001b[39m==\u001b[39m \u001b[39m429\u001b[39m:\n\u001b[1;32m--> 350\u001b[0m     \u001b[39mraise\u001b[39;00m TooManyRequestsException(\u001b[39m\"\u001b[39m\u001b[39m429 Too Many Requests\u001b[39m\u001b[39m\"\u001b[39m)\n\u001b[0;32m    351\u001b[0m \u001b[39mif\u001b[39;00m resp\u001b[39m.\u001b[39mstatus_code \u001b[39m!=\u001b[39m \u001b[39m200\u001b[39m:\n",
      "\u001b[1;31mTooManyRequestsException\u001b[0m: 429 Too Many Requests",
      "\nThe above exception was the direct cause of the following exception:\n",
      "\u001b[1;31mConnectionException\u001b[0m                       Traceback (most recent call last)",
      "\u001b[1;32mc:\\Users\\User\\Documents\\fyp\\scraper.ipynb Cell 1\u001b[0m in \u001b[0;36m2\n\u001b[0;32m     <a href='vscode-notebook-cell:/c%3A/Users/User/Documents/fyp/scraper.ipynb#W0sZmlsZQ%3D%3D?line=18'>19</a>\u001b[0m postdate \u001b[39m=\u001b[39m post\u001b[39m.\u001b[39mdate\n\u001b[0;32m     <a href='vscode-notebook-cell:/c%3A/Users/User/Documents/fyp/scraper.ipynb#W0sZmlsZQ%3D%3D?line=20'>21</a>\u001b[0m \u001b[39mif\u001b[39;00m postdate \u001b[39m>\u001b[39m UNTIL \u001b[39mand\u001b[39;00m postdate \u001b[39m<\u001b[39m\u001b[39m=\u001b[39m TODAY:\n\u001b[1;32m---> <a href='vscode-notebook-cell:/c%3A/Users/User/Documents/fyp/scraper.ipynb#W0sZmlsZQ%3D%3D?line=21'>22</a>\u001b[0m     comments \u001b[39m=\u001b[39m post\u001b[39m.\u001b[39;49mget_comments()\n\u001b[0;32m     <a href='vscode-notebook-cell:/c%3A/Users/User/Documents/fyp/scraper.ipynb#W0sZmlsZQ%3D%3D?line=22'>23</a>\u001b[0m     \u001b[39mfor\u001b[39;00m comment \u001b[39min\u001b[39;00m comments:\n\u001b[0;32m     <a href='vscode-notebook-cell:/c%3A/Users/User/Documents/fyp/scraper.ipynb#W0sZmlsZQ%3D%3D?line=23'>24</a>\u001b[0m         all_comments\u001b[39m.\u001b[39mappend(comment)\n",
      "File \u001b[1;32mc:\\Users\\User\\anaconda3\\envs\\fyp3\\lib\\site-packages\\instaloader\\structures.py:566\u001b[0m, in \u001b[0;36mPost.get_comments\u001b[1;34m(self)\u001b[0m\n\u001b[0;32m    563\u001b[0m \u001b[39mif\u001b[39;00m \u001b[39mself\u001b[39m\u001b[39m.\u001b[39mcomments \u001b[39m==\u001b[39m \u001b[39mlen\u001b[39m(comment_edges) \u001b[39m+\u001b[39m answers_count:\n\u001b[0;32m    564\u001b[0m     \u001b[39m# If the Post's metadata already contains all parent comments, don't do GraphQL requests to obtain them\u001b[39;00m\n\u001b[0;32m    565\u001b[0m     \u001b[39mreturn\u001b[39;00m [_postcomment(comment[\u001b[39m'\u001b[39m\u001b[39mnode\u001b[39m\u001b[39m'\u001b[39m]) \u001b[39mfor\u001b[39;00m comment \u001b[39min\u001b[39;00m comment_edges]\n\u001b[1;32m--> 566\u001b[0m \u001b[39mreturn\u001b[39;00m NodeIterator(\n\u001b[0;32m    567\u001b[0m     \u001b[39mself\u001b[39;49m\u001b[39m.\u001b[39;49m_context,\n\u001b[0;32m    568\u001b[0m     \u001b[39m'\u001b[39;49m\u001b[39m97b41c52301f77ce508f55e66d17620e\u001b[39;49m\u001b[39m'\u001b[39;49m,\n\u001b[0;32m    569\u001b[0m     \u001b[39mlambda\u001b[39;49;00m d: d[\u001b[39m'\u001b[39;49m\u001b[39mdata\u001b[39;49m\u001b[39m'\u001b[39;49m][\u001b[39m'\u001b[39;49m\u001b[39mshortcode_media\u001b[39;49m\u001b[39m'\u001b[39;49m][\u001b[39m'\u001b[39;49m\u001b[39medge_media_to_parent_comment\u001b[39;49m\u001b[39m'\u001b[39;49m],\n\u001b[0;32m    570\u001b[0m     _postcomment,\n\u001b[0;32m    571\u001b[0m     {\u001b[39m'\u001b[39;49m\u001b[39mshortcode\u001b[39;49m\u001b[39m'\u001b[39;49m: \u001b[39mself\u001b[39;49m\u001b[39m.\u001b[39;49mshortcode},\n\u001b[0;32m    572\u001b[0m     \u001b[39m'\u001b[39;49m\u001b[39mhttps://www.instagram.com/p/\u001b[39;49m\u001b[39m{0}\u001b[39;49;00m\u001b[39m/\u001b[39;49m\u001b[39m'\u001b[39;49m\u001b[39m.\u001b[39;49mformat(\u001b[39mself\u001b[39;49m\u001b[39m.\u001b[39;49mshortcode),\n\u001b[0;32m    573\u001b[0m )\n",
      "File \u001b[1;32mc:\\Users\\User\\anaconda3\\envs\\fyp3\\lib\\site-packages\\instaloader\\nodeiterator.py:93\u001b[0m, in \u001b[0;36mNodeIterator.__init__\u001b[1;34m(self, context, query_hash, edge_extractor, node_wrapper, query_variables, query_referer, first_data, is_first)\u001b[0m\n\u001b[0;32m     91\u001b[0m     \u001b[39mself\u001b[39m\u001b[39m.\u001b[39m_best_before \u001b[39m=\u001b[39m datetime\u001b[39m.\u001b[39mnow() \u001b[39m+\u001b[39m NodeIterator\u001b[39m.\u001b[39m_shelf_life\n\u001b[0;32m     92\u001b[0m \u001b[39melse\u001b[39;00m:\n\u001b[1;32m---> 93\u001b[0m     \u001b[39mself\u001b[39m\u001b[39m.\u001b[39m_data \u001b[39m=\u001b[39m \u001b[39mself\u001b[39;49m\u001b[39m.\u001b[39;49m_query()\n\u001b[0;32m     94\u001b[0m \u001b[39mself\u001b[39m\u001b[39m.\u001b[39m_first_node: Optional[Dict] \u001b[39m=\u001b[39m \u001b[39mNone\u001b[39;00m\n\u001b[0;32m     95\u001b[0m \u001b[39mself\u001b[39m\u001b[39m.\u001b[39m_is_first \u001b[39m=\u001b[39m is_first\n",
      "File \u001b[1;32mc:\\Users\\User\\anaconda3\\envs\\fyp3\\lib\\site-packages\\instaloader\\nodeiterator.py:103\u001b[0m, in \u001b[0;36mNodeIterator._query\u001b[1;34m(self, after)\u001b[0m\n\u001b[0;32m    100\u001b[0m     pagination_variables[\u001b[39m'\u001b[39m\u001b[39mafter\u001b[39m\u001b[39m'\u001b[39m] \u001b[39m=\u001b[39m after\n\u001b[0;32m    101\u001b[0m \u001b[39mtry\u001b[39;00m:\n\u001b[0;32m    102\u001b[0m     data \u001b[39m=\u001b[39m \u001b[39mself\u001b[39m\u001b[39m.\u001b[39m_edge_extractor(\n\u001b[1;32m--> 103\u001b[0m         \u001b[39mself\u001b[39;49m\u001b[39m.\u001b[39;49m_context\u001b[39m.\u001b[39;49mgraphql_query(\n\u001b[0;32m    104\u001b[0m             \u001b[39mself\u001b[39;49m\u001b[39m.\u001b[39;49m_query_hash, {\u001b[39m*\u001b[39;49m\u001b[39m*\u001b[39;49m\u001b[39mself\u001b[39;49m\u001b[39m.\u001b[39;49m_query_variables, \u001b[39m*\u001b[39;49m\u001b[39m*\u001b[39;49mpagination_variables}, \u001b[39mself\u001b[39;49m\u001b[39m.\u001b[39;49m_query_referer\n\u001b[0;32m    105\u001b[0m         )\n\u001b[0;32m    106\u001b[0m     )\n\u001b[0;32m    107\u001b[0m     \u001b[39mself\u001b[39m\u001b[39m.\u001b[39m_best_before \u001b[39m=\u001b[39m datetime\u001b[39m.\u001b[39mnow() \u001b[39m+\u001b[39m NodeIterator\u001b[39m.\u001b[39m_shelf_life\n\u001b[0;32m    108\u001b[0m     \u001b[39mreturn\u001b[39;00m data\n",
      "File \u001b[1;32mc:\\Users\\User\\anaconda3\\envs\\fyp3\\lib\\site-packages\\instaloader\\instaloadercontext.py:429\u001b[0m, in \u001b[0;36mInstaloaderContext.graphql_query\u001b[1;34m(self, query_hash, variables, referer, rhx_gis)\u001b[0m\n\u001b[0;32m    426\u001b[0m         x_instagram_gis \u001b[39m=\u001b[39m hashlib\u001b[39m.\u001b[39mmd5(values\u001b[39m.\u001b[39mencode())\u001b[39m.\u001b[39mhexdigest()\n\u001b[0;32m    427\u001b[0m         tmpsession\u001b[39m.\u001b[39mheaders[\u001b[39m'\u001b[39m\u001b[39mx-instagram-gis\u001b[39m\u001b[39m'\u001b[39m] \u001b[39m=\u001b[39m x_instagram_gis\n\u001b[1;32m--> 429\u001b[0m     resp_json \u001b[39m=\u001b[39m \u001b[39mself\u001b[39;49m\u001b[39m.\u001b[39;49mget_json(\u001b[39m'\u001b[39;49m\u001b[39mgraphql/query\u001b[39;49m\u001b[39m'\u001b[39;49m,\n\u001b[0;32m    430\u001b[0m                               params\u001b[39m=\u001b[39;49m{\u001b[39m'\u001b[39;49m\u001b[39mquery_hash\u001b[39;49m\u001b[39m'\u001b[39;49m: query_hash,\n\u001b[0;32m    431\u001b[0m                                       \u001b[39m'\u001b[39;49m\u001b[39mvariables\u001b[39;49m\u001b[39m'\u001b[39;49m: variables_json},\n\u001b[0;32m    432\u001b[0m                               session\u001b[39m=\u001b[39;49mtmpsession)\n\u001b[0;32m    433\u001b[0m \u001b[39mif\u001b[39;00m \u001b[39m'\u001b[39m\u001b[39mstatus\u001b[39m\u001b[39m'\u001b[39m \u001b[39mnot\u001b[39;00m \u001b[39min\u001b[39;00m resp_json:\n\u001b[0;32m    434\u001b[0m     \u001b[39mself\u001b[39m\u001b[39m.\u001b[39merror(\u001b[39m\"\u001b[39m\u001b[39mGraphQL response did not contain a \u001b[39m\u001b[39m\\\"\u001b[39;00m\u001b[39mstatus\u001b[39m\u001b[39m\\\"\u001b[39;00m\u001b[39m field.\u001b[39m\u001b[39m\"\u001b[39m)\n",
      "File \u001b[1;32mc:\\Users\\User\\anaconda3\\envs\\fyp3\\lib\\site-packages\\instaloader\\instaloadercontext.py:395\u001b[0m, in \u001b[0;36mInstaloaderContext.get_json\u001b[1;34m(self, path, params, host, session, _attempt)\u001b[0m\n\u001b[0;32m    393\u001b[0m         \u001b[39mif\u001b[39;00m is_other_query:\n\u001b[0;32m    394\u001b[0m             \u001b[39mself\u001b[39m\u001b[39m.\u001b[39m_rate_controller\u001b[39m.\u001b[39mhandle_429(\u001b[39m'\u001b[39m\u001b[39mother\u001b[39m\u001b[39m'\u001b[39m)\n\u001b[1;32m--> 395\u001b[0m     \u001b[39mreturn\u001b[39;00m \u001b[39mself\u001b[39;49m\u001b[39m.\u001b[39;49mget_json(path\u001b[39m=\u001b[39;49mpath, params\u001b[39m=\u001b[39;49mparams, host\u001b[39m=\u001b[39;49mhost, session\u001b[39m=\u001b[39;49msess, _attempt\u001b[39m=\u001b[39;49m_attempt \u001b[39m+\u001b[39;49m \u001b[39m1\u001b[39;49m)\n\u001b[0;32m    396\u001b[0m \u001b[39mexcept\u001b[39;00m \u001b[39mKeyboardInterrupt\u001b[39;00m:\n\u001b[0;32m    397\u001b[0m     \u001b[39mself\u001b[39m\u001b[39m.\u001b[39merror(\u001b[39m\"\u001b[39m\u001b[39m[skipped by user]\u001b[39m\u001b[39m\"\u001b[39m, repeat_at_end\u001b[39m=\u001b[39m\u001b[39mFalse\u001b[39;00m)\n",
      "File \u001b[1;32mc:\\Users\\User\\anaconda3\\envs\\fyp3\\lib\\site-packages\\instaloader\\instaloadercontext.py:395\u001b[0m, in \u001b[0;36mInstaloaderContext.get_json\u001b[1;34m(self, path, params, host, session, _attempt)\u001b[0m\n\u001b[0;32m    393\u001b[0m         \u001b[39mif\u001b[39;00m is_other_query:\n\u001b[0;32m    394\u001b[0m             \u001b[39mself\u001b[39m\u001b[39m.\u001b[39m_rate_controller\u001b[39m.\u001b[39mhandle_429(\u001b[39m'\u001b[39m\u001b[39mother\u001b[39m\u001b[39m'\u001b[39m)\n\u001b[1;32m--> 395\u001b[0m     \u001b[39mreturn\u001b[39;00m \u001b[39mself\u001b[39;49m\u001b[39m.\u001b[39;49mget_json(path\u001b[39m=\u001b[39;49mpath, params\u001b[39m=\u001b[39;49mparams, host\u001b[39m=\u001b[39;49mhost, session\u001b[39m=\u001b[39;49msess, _attempt\u001b[39m=\u001b[39;49m_attempt \u001b[39m+\u001b[39;49m \u001b[39m1\u001b[39;49m)\n\u001b[0;32m    396\u001b[0m \u001b[39mexcept\u001b[39;00m \u001b[39mKeyboardInterrupt\u001b[39;00m:\n\u001b[0;32m    397\u001b[0m     \u001b[39mself\u001b[39m\u001b[39m.\u001b[39merror(\u001b[39m\"\u001b[39m\u001b[39m[skipped by user]\u001b[39m\u001b[39m\"\u001b[39m, repeat_at_end\u001b[39m=\u001b[39m\u001b[39mFalse\u001b[39;00m)\n",
      "File \u001b[1;32mc:\\Users\\User\\anaconda3\\envs\\fyp3\\lib\\site-packages\\instaloader\\instaloadercontext.py:385\u001b[0m, in \u001b[0;36mInstaloaderContext.get_json\u001b[1;34m(self, path, params, host, session, _attempt)\u001b[0m\n\u001b[0;32m    383\u001b[0m         \u001b[39mraise\u001b[39;00m QueryReturnedNotFoundException(error_string) \u001b[39mfrom\u001b[39;00m \u001b[39merr\u001b[39;00m\n\u001b[0;32m    384\u001b[0m     \u001b[39melse\u001b[39;00m:\n\u001b[1;32m--> 385\u001b[0m         \u001b[39mraise\u001b[39;00m ConnectionException(error_string) \u001b[39mfrom\u001b[39;00m \u001b[39merr\u001b[39;00m\n\u001b[0;32m    386\u001b[0m \u001b[39mself\u001b[39m\u001b[39m.\u001b[39merror(error_string \u001b[39m+\u001b[39m \u001b[39m\"\u001b[39m\u001b[39m [retrying; skip with ^C]\u001b[39m\u001b[39m\"\u001b[39m, repeat_at_end\u001b[39m=\u001b[39m\u001b[39mFalse\u001b[39;00m)\n\u001b[0;32m    387\u001b[0m \u001b[39mtry\u001b[39;00m:\n",
      "\u001b[1;31mConnectionException\u001b[0m: JSON Query to graphql/query: 429 Too Many Requests"
     ]
    }
   ],
   "source": [
    "import instaloader\n",
    "import pandas\n",
    "import pickle\n",
    "from datetime import datetime, timedelta\n",
    "\n",
    "bot = instaloader.Instaloader()\n",
    "bot.login(\"refict689\", \"fict_insta689\")\n",
    "\n",
    "pagename = \"thegoodbatchmy\"\n",
    "profile = instaloader.Profile.from_username(bot.context, pagename)\n",
    "\n",
    "posts = profile.get_posts()\n",
    "\n",
    "TODAY = datetime.now() \n",
    "UNTIL = datetime.now() - timedelta(days = 30) \n",
    "\n",
    "all_comments = []\n",
    "for post in posts:\n",
    "    postdate = post.date\n",
    "\n",
    "    if postdate > UNTIL and postdate <= TODAY:\n",
    "        comments = post.get_comments()\n",
    "        for comment in comments:\n",
    "            all_comments.append(comment)\n",
    "    else:\n",
    "        break\n",
    "\n",
    "pickle.dump(all_comments, open(F\"data/{pagename}_comments.pickle\", 'wb'))"
   ]
  }
 ],
 "metadata": {
  "kernelspec": {
   "display_name": "fyp3",
   "language": "python",
   "name": "python3"
  },
  "language_info": {
   "codemirror_mode": {
    "name": "ipython",
    "version": 3
   },
   "file_extension": ".py",
   "mimetype": "text/x-python",
   "name": "python",
   "nbconvert_exporter": "python",
   "pygments_lexer": "ipython3",
   "version": "3.9.15"
  },
  "orig_nbformat": 4
 },
 "nbformat": 4,
 "nbformat_minor": 2
}
