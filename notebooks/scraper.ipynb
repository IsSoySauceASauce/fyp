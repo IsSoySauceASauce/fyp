{
 "cells": [
  {
   "cell_type": "code",
   "execution_count": null,
   "metadata": {},
   "outputs": [],
   "source": [
    "import instaloader\n",
    "import pandas\n",
    "import pickle\n",
    "from datetime import datetime, timedelta\n",
    "\n",
    "bot = instaloader.Instaloader()\n",
    "bot.login(\"refict689\", \"fict_insta689\")\n",
    "\n",
    "pagename = \"thegoodbatchmy\"\n",
    "profile = instaloader.Profile.from_username(bot.context, pagename)\n",
    "\n",
    "print(profile.username)\n",
    "\n",
    "posts = profile.get_posts()\n",
    "\n",
    "TODAY = datetime.now() \n",
    "UNTIL = datetime.now() - timedelta(days = 30) \n",
    "\n",
    "all_comments = []\n",
    "for post in posts:\n",
    "    postdate = post.date\n",
    "\n",
    "    if postdate > UNTIL and postdate <= TODAY:\n",
    "        comments = post.get_comments()\n",
    "        for comment in comments:\n",
    "            all_comments.append(comment)\n",
    "    else:\n",
    "        break\n",
    "\n",
    "pickle.dump(all_comments, open(F\"data/{pagename}_comments.pickle\", 'wb'))"
   ]
  }
 ],
 "metadata": {
  "kernelspec": {
   "display_name": "fyp3",
   "language": "python",
   "name": "python3"
  },
  "language_info": {
   "codemirror_mode": {
    "name": "ipython",
    "version": 3
   },
   "file_extension": ".py",
   "mimetype": "text/x-python",
   "name": "python",
   "nbconvert_exporter": "python",
   "pygments_lexer": "ipython3",
   "version": "3.11.3"
  },
  "orig_nbformat": 4
 },
 "nbformat": 4,
 "nbformat_minor": 2
}
